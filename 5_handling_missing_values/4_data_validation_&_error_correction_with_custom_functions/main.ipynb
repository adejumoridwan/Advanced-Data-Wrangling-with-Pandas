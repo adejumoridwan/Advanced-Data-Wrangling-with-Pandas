{
 "cells": [
  {
   "cell_type": "markdown",
   "metadata": {},
   "source": [
    "## Data Validation & Error Correction with Custom Functions\n",
    "\n",
    "\n",
    "Data validation and error correction are crucial steps in the data analysis process. Validating data ensures its accuracy and reliability, while error correction helps to rectify any inconsistencies or inaccuracies in the dataset. In pandas, custom functions can be created to perform specific validation and correction tasks tailored to the dataset's requirements.\n"
   ]
  },
  {
   "cell_type": "code",
   "execution_count": 1,
   "metadata": {},
   "outputs": [
    {
     "name": "stdout",
     "output_type": "stream",
     "text": [
      "                 Name  Age                        Email                  Phone\n",
      "0      Amanda Vasquez   41          fwilson@example.com     (531)368-6830x5212\n",
      "1      Courtney Black   67          ljuarez@example.org        +1-564-264-6685\n",
      "2      Hannah Mcgrath   60        patrick22@example.com       001-905-371-6278\n",
      "3  Joseph Ramirez DDS   35        jessica23@example.org           303-888-2339\n",
      "4         Laura Jones   20            pdiaz@example.net       001-623-823-1900\n",
      "5      Larry Galloway   43  michaelmcdonald@example.com  001-833-795-8327x9961\n",
      "6     Jimmy Gallagher   21      sydneysmith@example.org     236.670.3451x51351\n",
      "7       Brenda Steele   33          yharris@example.net      439.594.8470x3280\n",
      "8       Jeremy Golden   30       ginaconway@example.org   001-783-612-1250x849\n",
      "9       Vanessa Hicks   23         dgardner@example.org     431.923.9833x36920\n"
     ]
    }
   ],
   "source": [
    "from faker import Faker\n",
    "import pandas as pd\n",
    "\n",
    "# Initialize Faker\n",
    "fake = Faker()\n",
    "\n",
    "# Generate fake data\n",
    "data = {\n",
    "    'Name': [fake.name() for _ in range(10)],\n",
    "    'Age': [fake.random_int(min=18, max=80) for _ in range(10)],\n",
    "    'Email': [fake.email() for _ in range(10)],\n",
    "    'Phone': [fake.phone_number() for _ in range(10)]\n",
    "}\n",
    "\n",
    "# Create DataFrame\n",
    "df = pd.DataFrame(data)\n",
    "print(df)\n"
   ]
  },
  {
   "cell_type": "markdown",
   "metadata": {},
   "source": [
    "## Custom Functions for Data Validation & Error Correction:\n",
    "Now, let's create custom functions to perform data validation and error correction on the generated dataset."
   ]
  },
  {
   "cell_type": "code",
   "execution_count": 2,
   "metadata": {},
   "outputs": [],
   "source": [
    "# Custom function for validating email addresses\n",
    "def validate_email(email):\n",
    "    if '@' not in email:\n",
    "        return False\n",
    "    return True\n",
    "\n",
    "# Custom function for correcting phone numbers\n",
    "def correct_phone(phone):\n",
    "    # Remove non-numeric characters\n",
    "    phone = ''.join(filter(str.isdigit, phone))\n",
    "    # Add country code if missing\n",
    "    if len(phone) == 10:\n",
    "        phone = '+1' + phone\n",
    "    return phone\n"
   ]
  },
  {
   "cell_type": "markdown",
   "metadata": {},
   "source": [
    "## Applying Custom Functions to Dataset:\n",
    "Next, we'll apply the custom functions to validate and correct errors in the dataset."
   ]
  },
  {
   "cell_type": "code",
   "execution_count": 3,
   "metadata": {},
   "outputs": [
    {
     "name": "stdout",
     "output_type": "stream",
     "text": [
      "                 Name  Age                        Email  \\\n",
      "0      Amanda Vasquez   41          fwilson@example.com   \n",
      "1      Courtney Black   67          ljuarez@example.org   \n",
      "2      Hannah Mcgrath   60        patrick22@example.com   \n",
      "3  Joseph Ramirez DDS   35        jessica23@example.org   \n",
      "4         Laura Jones   20            pdiaz@example.net   \n",
      "5      Larry Galloway   43  michaelmcdonald@example.com   \n",
      "6     Jimmy Gallagher   21      sydneysmith@example.org   \n",
      "7       Brenda Steele   33          yharris@example.net   \n",
      "8       Jeremy Golden   30       ginaconway@example.org   \n",
      "9       Vanessa Hicks   23         dgardner@example.org   \n",
      "\n",
      "                   Phone  Valid Email    Corrected Phone  \n",
      "0     (531)368-6830x5212         True     53136868305212  \n",
      "1        +1-564-264-6685         True        15642646685  \n",
      "2       001-905-371-6278         True      0019053716278  \n",
      "3           303-888-2339         True       +13038882339  \n",
      "4       001-623-823-1900         True      0016238231900  \n",
      "5  001-833-795-8327x9961         True  00183379583279961  \n",
      "6     236.670.3451x51351         True    236670345151351  \n",
      "7      439.594.8470x3280         True     43959484703280  \n",
      "8   001-783-612-1250x849         True   0017836121250849  \n",
      "9     431.923.9833x36920         True    431923983336920  \n"
     ]
    }
   ],
   "source": [
    "# Validate email addresses\n",
    "df['Valid Email'] = df['Email'].apply(validate_email)\n",
    "\n",
    "# Correct phone numbers\n",
    "df['Corrected Phone'] = df['Phone'].apply(correct_phone)\n",
    "\n",
    "print(df)\n"
   ]
  }
 ],
 "metadata": {
  "kernelspec": {
   "display_name": "Python 3",
   "language": "python",
   "name": "python3"
  },
  "language_info": {
   "codemirror_mode": {
    "name": "ipython",
    "version": 3
   },
   "file_extension": ".py",
   "mimetype": "text/x-python",
   "name": "python",
   "nbconvert_exporter": "python",
   "pygments_lexer": "ipython3",
   "version": "3.12.3"
  }
 },
 "nbformat": 4,
 "nbformat_minor": 2
}
