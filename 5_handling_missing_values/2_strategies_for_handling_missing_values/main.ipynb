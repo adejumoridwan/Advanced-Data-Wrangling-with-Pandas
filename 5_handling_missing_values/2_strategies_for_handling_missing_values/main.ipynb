{
 "cells": [
  {
   "cell_type": "markdown",
   "metadata": {},
   "source": [
    "## Strategies for Handling Missing Values:\n",
    "\n",
    "### Filling Missing Values:\n",
    "\n",
    "Filling missing values involves replacing them with a specific value, such as a mean, median, or a constant.\n",
    "This strategy is useful when the missing values follow a pattern or when the missingness is informative.\n",
    "\n",
    "## Dropping Missing Values:\n",
    "\n",
    "Dropping missing values involves removing rows or columns containing missing values.\n",
    "This strategy is suitable when the missing values are randomly distributed and dropping them doesn't cause significant data loss.\n",
    "\n",
    "## Interpolation:\n",
    "\n",
    "Interpolation estimates the missing values based on the surrounding values.\n",
    "It's useful when the data follows a trend or pattern and the missing values can be reasonably estimated from neighboring data points."
   ]
  },
  {
   "cell_type": "code",
   "execution_count": 4,
   "metadata": {},
   "outputs": [
    {
     "name": "stdout",
     "output_type": "stream",
     "text": [
      "Original DataFrame:\n",
      "              Name   Age   Income\n",
      "0    Kelly Jackson  62.0  44351.0\n",
      "1  Michael Pearson  55.0  14797.0\n",
      "2      Andre Smith   NaN  84850.0\n",
      "3     Grace Wright  55.0  60998.0\n",
      "4  Jonathon Butler  51.0  48900.0\n",
      "5   Charles Little  64.0      NaN\n",
      "6     Kevin Rivera  39.0   2524.0\n",
      "7   Raymond Walker  72.0  24060.0\n",
      "8   Daniel Miranda  26.0  57391.0\n",
      "9        Kerri Fox  22.0  62402.0\n"
     ]
    }
   ],
   "source": [
    "import pandas as pd\n",
    "from faker import Faker\n",
    "import numpy as np\n",
    "\n",
    "# Initialize Faker\n",
    "fake = Faker()\n",
    "\n",
    "# Generate fake data\n",
    "data = {'Name': [fake.name() for _ in range(10)],\n",
    "        'Age': [fake.random_int(min=18, max=80) for _ in range(10)],\n",
    "        'Income': [fake.random_number(digits=5) for _ in range(10)]}\n",
    "\n",
    "# Introduce missing values\n",
    "data['Age'][2] = np.nan\n",
    "data['Income'][5] = np.nan\n",
    "\n",
    "# Create DataFrame\n",
    "df = pd.DataFrame(data)\n",
    "\n",
    "# Display DataFrame\n",
    "print(\"Original DataFrame:\")\n",
    "print(df)\n"
   ]
  },
  {
   "cell_type": "markdown",
   "metadata": {},
   "source": [
    "## Dropping Missing Values"
   ]
  },
  {
   "cell_type": "code",
   "execution_count": 5,
   "metadata": {},
   "outputs": [
    {
     "name": "stdout",
     "output_type": "stream",
     "text": [
      "\n",
      "DataFrame after dropping rows with missing values:\n",
      "              Name   Age   Income\n",
      "0    Kelly Jackson  62.0  44351.0\n",
      "1  Michael Pearson  55.0  14797.0\n",
      "3     Grace Wright  55.0  60998.0\n",
      "4  Jonathon Butler  51.0  48900.0\n",
      "6     Kevin Rivera  39.0   2524.0\n",
      "7   Raymond Walker  72.0  24060.0\n",
      "8   Daniel Miranda  26.0  57391.0\n",
      "9        Kerri Fox  22.0  62402.0\n"
     ]
    }
   ],
   "source": [
    "# Drop rows with missing values\n",
    "df_dropped = df.dropna()\n",
    "\n",
    "print(\"\\nDataFrame after dropping rows with missing values:\")\n",
    "print(df_dropped)\n"
   ]
  },
  {
   "cell_type": "markdown",
   "metadata": {},
   "source": [
    "## Interpolation"
   ]
  },
  {
   "cell_type": "code",
   "execution_count": 6,
   "metadata": {},
   "outputs": [
    {
     "name": "stdout",
     "output_type": "stream",
     "text": [
      "\n",
      "DataFrame after interpolating missing values:\n",
      "              Name   Age   Income\n",
      "0    Kelly Jackson  62.0  44351.0\n",
      "1  Michael Pearson  55.0  14797.0\n",
      "2      Andre Smith  55.0  84850.0\n",
      "3     Grace Wright  55.0  60998.0\n",
      "4  Jonathon Butler  51.0  48900.0\n",
      "5   Charles Little  64.0  25712.0\n",
      "6     Kevin Rivera  39.0   2524.0\n",
      "7   Raymond Walker  72.0  24060.0\n",
      "8   Daniel Miranda  26.0  57391.0\n",
      "9        Kerri Fox  22.0  62402.0\n"
     ]
    },
    {
     "name": "stderr",
     "output_type": "stream",
     "text": [
      "C:\\Users\\abu aisha\\AppData\\Local\\Temp\\ipykernel_20800\\3630336348.py:2: FutureWarning: DataFrame.interpolate with object dtype is deprecated and will raise in a future version. Call obj.infer_objects(copy=False) before interpolating instead.\n",
      "  df_interpolated = df.interpolate()\n"
     ]
    }
   ],
   "source": [
    "# Interpolate missing values\n",
    "df_interpolated = df.interpolate()\n",
    "\n",
    "print(\"\\nDataFrame after interpolating missing values:\")\n",
    "print(df_interpolated)\n"
   ]
  }
 ],
 "metadata": {
  "kernelspec": {
   "display_name": "Python 3",
   "language": "python",
   "name": "python3"
  },
  "language_info": {
   "codemirror_mode": {
    "name": "ipython",
    "version": 3
   },
   "file_extension": ".py",
   "mimetype": "text/x-python",
   "name": "python",
   "nbconvert_exporter": "python",
   "pygments_lexer": "ipython3",
   "version": "3.12.3"
  }
 },
 "nbformat": 4,
 "nbformat_minor": 2
}
