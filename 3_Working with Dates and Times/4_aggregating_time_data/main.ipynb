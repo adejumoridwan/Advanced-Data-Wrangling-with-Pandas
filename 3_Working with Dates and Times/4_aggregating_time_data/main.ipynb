{
 "cells": [
  {
   "cell_type": "markdown",
   "metadata": {},
   "source": [
    "# Aggregating Time-Series Data"
   ]
  },
  {
   "cell_type": "code",
   "execution_count": 7,
   "metadata": {},
   "outputs": [
    {
     "data": {
      "text/html": [
       "<div>\n",
       "<style scoped>\n",
       "    .dataframe tbody tr th:only-of-type {\n",
       "        vertical-align: middle;\n",
       "    }\n",
       "\n",
       "    .dataframe tbody tr th {\n",
       "        vertical-align: top;\n",
       "    }\n",
       "\n",
       "    .dataframe thead th {\n",
       "        text-align: right;\n",
       "    }\n",
       "</style>\n",
       "<table border=\"1\" class=\"dataframe\">\n",
       "  <thead>\n",
       "    <tr style=\"text-align: right;\">\n",
       "      <th></th>\n",
       "      <th>co2</th>\n",
       "    </tr>\n",
       "  </thead>\n",
       "  <tbody>\n",
       "    <tr>\n",
       "      <th>1958-03-29</th>\n",
       "      <td>316.1</td>\n",
       "    </tr>\n",
       "    <tr>\n",
       "      <th>1958-04-05</th>\n",
       "      <td>317.3</td>\n",
       "    </tr>\n",
       "    <tr>\n",
       "      <th>1958-04-12</th>\n",
       "      <td>317.6</td>\n",
       "    </tr>\n",
       "    <tr>\n",
       "      <th>1958-04-19</th>\n",
       "      <td>317.5</td>\n",
       "    </tr>\n",
       "    <tr>\n",
       "      <th>1958-04-26</th>\n",
       "      <td>316.4</td>\n",
       "    </tr>\n",
       "  </tbody>\n",
       "</table>\n",
       "</div>"
      ],
      "text/plain": [
       "              co2\n",
       "1958-03-29  316.1\n",
       "1958-04-05  317.3\n",
       "1958-04-12  317.6\n",
       "1958-04-19  317.5\n",
       "1958-04-26  316.4"
      ]
     },
     "execution_count": 7,
     "metadata": {},
     "output_type": "execute_result"
    }
   ],
   "source": [
    "import numpy as np\n",
    "import pandas as pd\n",
    "import matplotlib.pyplot as plt\n",
    "import statsmodels.api as sm\n",
    "\n",
    "# Load the CO2 dataset\n",
    "data = sm.datasets.co2.load_pandas()\n",
    "co2 = data.data\n",
    "co2.head()\n"
   ]
  },
  {
   "cell_type": "markdown",
   "metadata": {},
   "source": [
    "## Initial Data Exploration"
   ]
  },
  {
   "cell_type": "code",
   "execution_count": 8,
   "metadata": {},
   "outputs": [
    {
     "name": "stdout",
     "output_type": "stream",
     "text": [
      "              co2\n",
      "1958-03-29  316.1\n",
      "1958-04-05  317.3\n",
      "1958-04-12  317.6\n",
      "1958-04-19  317.5\n",
      "1958-04-26  316.4\n",
      "DatetimeIndex(['1958-03-29', '1958-04-05', '1958-04-12', '1958-04-19',\n",
      "               '1958-04-26', '1958-05-03', '1958-05-10', '1958-05-17',\n",
      "               '1958-05-24', '1958-05-31',\n",
      "               ...\n",
      "               '2001-10-27', '2001-11-03', '2001-11-10', '2001-11-17',\n",
      "               '2001-11-24', '2001-12-01', '2001-12-08', '2001-12-15',\n",
      "               '2001-12-22', '2001-12-29'],\n",
      "              dtype='datetime64[ns]', length=2284, freq='W-SAT')\n"
     ]
    }
   ],
   "source": [
    "print(co2.head())\n",
    "print(co2.index)\n"
   ]
  },
  {
   "cell_type": "markdown",
   "metadata": {},
   "source": [
    "## Aggregation Functions\n",
    "After resampling, you can apply various aggregation functions to summarize the data. Common aggregations include mean, sum, maximum, and minimum."
   ]
  },
  {
   "cell_type": "code",
   "execution_count": 9,
   "metadata": {},
   "outputs": [
    {
     "name": "stdout",
     "output_type": "stream",
     "text": [
      "Yearly Sum:\n",
      "                 co2\n",
      "1958-12-31   7885.5\n",
      "1959-12-31  15163.5\n",
      "1960-12-31  16793.6\n",
      "1961-12-31  16514.8\n",
      "1962-12-31  15290.2\n",
      "Yearly Max:\n",
      "               co2\n",
      "1958-12-31  317.9\n",
      "1959-12-31  318.7\n",
      "1960-12-31  320.0\n",
      "1961-12-31  320.6\n",
      "1962-12-31  321.1\n",
      "Yearly Min:\n",
      "               co2\n",
      "1958-12-31  313.0\n",
      "1959-12-31  313.0\n",
      "1960-12-31  313.3\n",
      "1961-12-31  314.5\n",
      "1962-12-31  315.1\n"
     ]
    },
    {
     "name": "stderr",
     "output_type": "stream",
     "text": [
      "C:\\Users\\abu aisha\\AppData\\Local\\Temp\\ipykernel_16748\\2231697196.py:2: FutureWarning: 'A' is deprecated and will be removed in a future version, please use 'YE' instead.\n",
      "  yearly_co2_sum = co2.resample('A').sum()  # Sum of values every year\n",
      "C:\\Users\\abu aisha\\AppData\\Local\\Temp\\ipykernel_16748\\2231697196.py:3: FutureWarning: 'A' is deprecated and will be removed in a future version, please use 'YE' instead.\n",
      "  yearly_co2_max = co2.resample('A').max()  # Maximum value every year\n",
      "C:\\Users\\abu aisha\\AppData\\Local\\Temp\\ipykernel_16748\\2231697196.py:4: FutureWarning: 'A' is deprecated and will be removed in a future version, please use 'YE' instead.\n",
      "  yearly_co2_min = co2.resample('A').min()  # Minimum value every year\n"
     ]
    }
   ],
   "source": [
    "# Using different aggregation methods after resampling\n",
    "yearly_co2_sum = co2.resample('A').sum()  # Sum of values every year\n",
    "yearly_co2_max = co2.resample('A').max()  # Maximum value every year\n",
    "yearly_co2_min = co2.resample('A').min()  # Minimum value every year\n",
    "\n",
    "print(\"Yearly Sum:\\n\", yearly_co2_sum.head())\n",
    "print(\"Yearly Max:\\n\", yearly_co2_max.head())\n",
    "print(\"Yearly Min:\\n\", yearly_co2_min.head())\n"
   ]
  },
  {
   "cell_type": "markdown",
   "metadata": {},
   "source": [
    "## Custom Aggregations\n",
    "For more complex scenarios, you might want to apply multiple or custom aggregation functions."
   ]
  },
  {
   "cell_type": "code",
   "execution_count": 10,
   "metadata": {},
   "outputs": [
    {
     "name": "stdout",
     "output_type": "stream",
     "text": [
      "                   co2                        \n",
      "                  mean       std    min    max\n",
      "1958-12-31  315.420000  1.467424  313.0  317.9\n",
      "1959-12-31  315.906250  1.617643  313.0  318.7\n",
      "1960-12-31  316.860377  1.984395  313.3  320.0\n",
      "1961-12-31  317.592308  1.736782  314.5  320.6\n",
      "1962-12-31  318.545833  1.810014  315.1  321.1\n"
     ]
    },
    {
     "name": "stderr",
     "output_type": "stream",
     "text": [
      "C:\\Users\\abu aisha\\AppData\\Local\\Temp\\ipykernel_16748\\2081947995.py:2: FutureWarning: 'A' is deprecated and will be removed in a future version, please use 'YE' instead.\n",
      "  yearly_co2_stats = co2.resample('A').agg(['mean', 'std', 'min', 'max'])\n"
     ]
    }
   ],
   "source": [
    "# Applying multiple aggregation functions at once\n",
    "yearly_co2_stats = co2.resample('A').agg(['mean', 'std', 'min', 'max'])\n",
    "print(yearly_co2_stats.head())\n"
   ]
  }
 ],
 "metadata": {
  "kernelspec": {
   "display_name": "Python 3",
   "language": "python",
   "name": "python3"
  },
  "language_info": {
   "codemirror_mode": {
    "name": "ipython",
    "version": 3
   },
   "file_extension": ".py",
   "mimetype": "text/x-python",
   "name": "python",
   "nbconvert_exporter": "python",
   "pygments_lexer": "ipython3",
   "version": "3.12.3"
  }
 },
 "nbformat": 4,
 "nbformat_minor": 2
}
