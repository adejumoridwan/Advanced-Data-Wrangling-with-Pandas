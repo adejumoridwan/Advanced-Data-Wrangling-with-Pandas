{
 "cells": [
  {
   "cell_type": "markdown",
   "metadata": {},
   "source": [
    "**Lesson Note: Memory Optimization Techniques in Pandas**\n",
    "\n",
    "**Objective:**\n",
    "By the end of this lesson, students will be able to:\n",
    "1. Understand the importance of memory optimization in pandas.\n",
    "2. Utilize various techniques to optimize memory usage in pandas DataFrames.\n",
    "3. Implement these techniques using Python faker to create synthetic data.\n",
    "\n",
    "**Introduction to Memory Optimization in Pandas:**\n",
    "Pandas is a powerful library for data manipulation and analysis, but it can be memory intensive, especially when dealing with large datasets. Optimizing memory usage is crucial for efficient data processing, especially on machines with limited resources.\n",
    "\n",
    "**Memory Optimization Techniques:**\n",
    "1. **Selecting Appropriate Data Types (dtypes):**\n",
    "   - Choose the most appropriate data types for each column to minimize memory usage.\n",
    "   - Use integers instead of floats wherever possible, as they typically require less memory.\n",
    "   - Utilize categorical data types for columns with a limited number of unique values to save memory.\n",
    "\n",
    "2. **Downcasting Numeric Data Types:**\n",
    "   - Downcast numeric data types (e.g., float64 to float32, int64 to int32) to reduce memory usage while preserving data integrity.\n",
    "\n",
    "3. **Sparse Data Structures:**\n",
    "   - Convert columns containing mostly missing values to sparse data structures to save memory.\n",
    "   - Use `pd.SparseDtype` for creating sparse data types.\n",
    "\n",
    "4. **Memory-efficient Data Loading:**\n",
    "   - Use memory-efficient methods for loading data, such as `read_csv()` with appropriate parameters like `dtype` and `usecols`.\n",
    "\n"
   ]
  },
  {
   "cell_type": "code",
   "execution_count": 1,
   "metadata": {},
   "outputs": [
    {
     "name": "stdout",
     "output_type": "stream",
     "text": [
      "Memory Usage Before Optimization:\n",
      "Index           132\n",
      "Name          62290\n",
      "Age            8000\n",
      "Salary         8000\n",
      "Department    52745\n",
      "dtype: int64\n",
      "\n",
      "Memory Usage After Optimization:\n",
      "Index           132\n",
      "Name          62290\n",
      "Age            1000\n",
      "Salary         4000\n",
      "Department     1266\n",
      "dtype: int64\n"
     ]
    }
   ],
   "source": [
    "import pandas as pd\n",
    "from faker import Faker\n",
    "\n",
    "# Create Faker instance\n",
    "fake = Faker()\n",
    "\n",
    "# Generate synthetic data\n",
    "data = {\n",
    "    'Name': [fake.name() for _ in range(1000)],\n",
    "    'Age': [fake.random_int(min=18, max=90) for _ in range(1000)],\n",
    "    'Salary': [fake.random_int(min=20000, max=100000) for _ in range(1000)],\n",
    "    'Department': [fake.random_element(elements=('IT', 'Finance', 'HR')) for _ in range(1000)]\n",
    "}\n",
    "\n",
    "# Create DataFrame\n",
    "df = pd.DataFrame(data)\n",
    "\n",
    "# Display memory usage before optimization\n",
    "print(\"Memory Usage Before Optimization:\")\n",
    "print(df.memory_usage(deep=True))\n",
    "\n",
    "# 1. Selecting Appropriate Data Types\n",
    "# Convert 'Age' and 'Salary' to int32\n",
    "df['Age'] = df['Age'].astype('int32')\n",
    "df['Salary'] = df['Salary'].astype('int32')\n",
    "\n",
    "# Convert 'Department' to categorical\n",
    "df['Department'] = df['Department'].astype('category')\n",
    "\n",
    "# 2. Downcasting Numeric Data Types\n",
    "df['Age'] = pd.to_numeric(df['Age'], downcast='integer')\n",
    "df['Salary'] = pd.to_numeric(df['Salary'], downcast='integer')\n",
    "\n",
    "# Display memory usage after optimization\n",
    "print(\"\\nMemory Usage After Optimization:\")\n",
    "print(df.memory_usage(deep=True))\n"
   ]
  },
  {
   "cell_type": "markdown",
   "metadata": {},
   "source": [
    "\n",
    "**Conclusion:**\n",
    "Memory optimization is essential for efficient data processing in pandas. By applying techniques like selecting appropriate data types, downcasting numeric types, and utilizing sparse data structures, users can significantly reduce memory usage without sacrificing data integrity. These techniques are particularly beneficial when dealing with large datasets or working on machines with limited resources."
   ]
  }
 ],
 "metadata": {
  "kernelspec": {
   "display_name": "Python 3",
   "language": "python",
   "name": "python3"
  },
  "language_info": {
   "codemirror_mode": {
    "name": "ipython",
    "version": 3
   },
   "file_extension": ".py",
   "mimetype": "text/x-python",
   "name": "python",
   "nbconvert_exporter": "python",
   "pygments_lexer": "ipython3",
   "version": "3.12.3"
  }
 },
 "nbformat": 4,
 "nbformat_minor": 2
}
