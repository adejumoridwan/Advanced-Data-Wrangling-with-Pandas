{
 "cells": [
  {
   "cell_type": "markdown",
   "metadata": {},
   "source": [
    "# Best Practices for Efficient & Clean Pandas Code\n",
    "\n",
    "## Importing Libraries:"
   ]
  },
  {
   "cell_type": "code",
   "execution_count": 1,
   "metadata": {},
   "outputs": [],
   "source": [
    "import pandas as pd\n",
    "from faker import Faker\n"
   ]
  },
  {
   "cell_type": "markdown",
   "metadata": {},
   "source": [
    "## Generating Sample Data with Faker:"
   ]
  },
  {
   "cell_type": "code",
   "execution_count": 2,
   "metadata": {},
   "outputs": [],
   "source": [
    "fake = Faker()\n",
    "\n",
    "# Create sample data for demonstration\n",
    "data = {\n",
    "    'Name': [fake.name() for _ in range(1000)],\n",
    "    'Email': [fake.email() for _ in range(1000)],\n",
    "    'Age': [fake.random_int(18, 80) for _ in range(1000)],\n",
    "    'Salary': [fake.random_int(30000, 150000) for _ in range(1000)],\n",
    "    'City': [fake.city() for _ in range(1000)]\n",
    "}\n",
    "\n",
    "df = pd.DataFrame(data)\n"
   ]
  },
  {
   "cell_type": "markdown",
   "metadata": {},
   "source": [
    "## Best Practices for Efficient Pandas Code:\n",
    "### Vectorization:\n",
    "Avoid looping over DataFrame rows, instead use vectorized operations for better performance."
   ]
  },
  {
   "cell_type": "code",
   "execution_count": 3,
   "metadata": {},
   "outputs": [
    {
     "name": "stderr",
     "output_type": "stream",
     "text": [
      "C:\\Users\\abu aisha\\AppData\\Local\\Temp\\ipykernel_18652\\462486506.py:3: FutureWarning: Setting an item of incompatible dtype is deprecated and will raise an error in a future version of pandas. Value '65164.00000000001' has dtype incompatible with int64, please explicitly cast to a compatible dtype first.\n",
      "  df.at[index, 'Salary'] *= 1.1\n"
     ]
    }
   ],
   "source": [
    "# Bad Practice\n",
    "for index, row in df.iterrows():\n",
    "    df.at[index, 'Salary'] *= 1.1\n",
    "\n",
    "# Better Practice\n",
    "df['Salary'] *= 1.1\n"
   ]
  },
  {
   "cell_type": "markdown",
   "metadata": {},
   "source": [
    "### Method Chaining:\n",
    "Use method chaining to perform operations on DataFrame in a concise and readable manner."
   ]
  },
  {
   "cell_type": "code",
   "execution_count": 4,
   "metadata": {},
   "outputs": [],
   "source": [
    "# Bad Practice\n",
    "df = df.dropna()\n",
    "df = df[df['Age'] > 30]\n",
    "\n",
    "# Better Practice\n",
    "df = df.dropna().loc[df['Age'] > 30]\n"
   ]
  },
  {
   "cell_type": "markdown",
   "metadata": {},
   "source": [
    "## est Practices for Clean Pandas Code:\n",
    "### Descriptive Variable Names:\n",
    "Use descriptive variable names to enhance code readability."
   ]
  },
  {
   "cell_type": "code",
   "execution_count": 5,
   "metadata": {},
   "outputs": [],
   "source": [
    "# Bad Practice\n",
    "df2 = df[(df['Age'] > 30) & (df['Salary'] > 80000)]\n",
    "\n",
    "# Better Practice\n",
    "high_earners = df[(df['Age'] > 30) & (df['Salary'] > 80000)]\n"
   ]
  },
  {
   "cell_type": "markdown",
   "metadata": {},
   "source": [
    "### Consistent Formatting:\n",
    "Maintain consistent formatting for improved code readability."
   ]
  },
  {
   "cell_type": "code",
   "execution_count": 6,
   "metadata": {},
   "outputs": [],
   "source": [
    "# Bad Practice\n",
    "df['Email'] = df['Email'].apply(lambda x: x.lower())\n",
    "\n",
    "# Better Practice\n",
    "df['Email'] = df['Email'].apply(str.lower)\n"
   ]
  }
 ],
 "metadata": {
  "kernelspec": {
   "display_name": "Python 3",
   "language": "python",
   "name": "python3"
  },
  "language_info": {
   "codemirror_mode": {
    "name": "ipython",
    "version": 3
   },
   "file_extension": ".py",
   "mimetype": "text/x-python",
   "name": "python",
   "nbconvert_exporter": "python",
   "pygments_lexer": "ipython3",
   "version": "3.12.3"
  }
 },
 "nbformat": 4,
 "nbformat_minor": 2
}
