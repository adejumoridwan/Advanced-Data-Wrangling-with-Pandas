{
 "cells": [
  {
   "cell_type": "markdown",
   "metadata": {},
   "source": [
    "Title: Vectorized Operations vs. Loops for Efficiency in Pandas\n",
    "\n",
    "Objective:\n",
    "By the end of this lesson, students will understand the concept of vectorized operations and loops in pandas and will be able to identify situations where vectorized operations offer better performance compared to loops.\n",
    "\n",
    "Key Concepts:\n",
    "\n",
    "Introduction to Vectorized Operations\n",
    "Comparison with Loops\n",
    "Performance Considerations\n",
    "Code Examples with Python Faker Data\n",
    "1. Introduction to Vectorized Operations:\n",
    "Vectorized operations in pandas refer to operations that are applied to entire arrays (Series or DataFrames) at once, instead of looping through each element individually. These operations leverage underlying optimized C implementations, leading to significant performance improvements.\n",
    "\n",
    "2. Comparison with Loops:\n",
    "\n",
    "Loops: Loops in pandas involve iterating over each element of a Series or DataFrame, performing operations one at a time. While loops are intuitive, they can be slow, especially with large datasets.\n",
    "Vectorized Operations: Vectorized operations apply operations to entire arrays, eliminating the need for explicit looping. These operations are much faster due to optimized implementations in the underlying libraries.\n",
    "3. Performance Considerations:\n",
    "\n",
    "Memory Efficiency: Vectorized operations generally consume less memory compared to equivalent operations performed with loops.\n",
    "Speed: Vectorized operations are usually much faster than equivalent looping constructs, especially with large datasets.\n",
    "Readability: Vectorized operations often lead to more concise and readable code compared to explicit loops.\n",
    "4. Code Examples with Python Faker Data:"
   ]
  },
  {
   "cell_type": "code",
   "execution_count": 1,
   "metadata": {},
   "outputs": [
    {
     "name": "stdout",
     "output_type": "stream",
     "text": [
      "Total Income (Loop): 4994160855\n",
      "Total Income (Vectorized): 4994160855\n",
      "Filtered Data (Age > 50):\n",
      "                     name  age  income\n",
      "2     William Villarreal   71     763\n",
      "4  Christopher Valdez MD   53   63950\n",
      "5          Yvonne Ibarra   60   68468\n",
      "6           Isaiah Smith   70   31846\n",
      "8           Kimberly Cox   67   89710\n",
      "Income in Thousands:\n",
      "                     name  income_thousands\n",
      "0         David Gonzales            99.183\n",
      "1         Natalie Montes             5.970\n",
      "2     William Villarreal             0.763\n",
      "3          Jessica Rocha            28.799\n",
      "4  Christopher Valdez MD            63.950\n",
      "First Names:\n",
      "                     name   first_name\n",
      "0         David Gonzales        David\n",
      "1         Natalie Montes      Natalie\n",
      "2     William Villarreal      William\n",
      "3          Jessica Rocha      Jessica\n",
      "4  Christopher Valdez MD  Christopher\n"
     ]
    }
   ],
   "source": [
    "# Import necessary libraries\n",
    "import pandas as pd\n",
    "from faker import Faker\n",
    "\n",
    "# Initialize Faker to generate fake data\n",
    "fake = Faker()\n",
    "\n",
    "# Generate sample data\n",
    "n = 100000\n",
    "data = {\n",
    "    'name': [fake.name() for _ in range(n)],\n",
    "    'age': [fake.random_int(min=18, max=80) for _ in range(n)],\n",
    "    'income': [fake.random_number(digits=5) for _ in range(n)]\n",
    "}\n",
    "\n",
    "# Create a DataFrame\n",
    "df = pd.DataFrame(data)\n",
    "\n",
    "# Example 1: Calculate total income using loops\n",
    "total_income_loop = 0\n",
    "for income in df['income']:\n",
    "    total_income_loop += income\n",
    "\n",
    "# Example 2: Calculate total income using vectorized operation\n",
    "total_income_vectorized = df['income'].sum()\n",
    "\n",
    "# Example 3: Apply vectorized operation for conditional filtering\n",
    "# Filter data where age is greater than 50\n",
    "filtered_data = df[df['age'] > 50]\n",
    "\n",
    "# Example 4: Apply vectorized operation for element-wise computation\n",
    "# Convert income to thousands\n",
    "df['income_thousands'] = df['income'] / 1000\n",
    "\n",
    "# Example 5: Use vectorized operation for string manipulation\n",
    "# Extract first names from 'name' column\n",
    "df['first_name'] = df['name'].str.split().str[0]\n",
    "\n",
    "# Display results\n",
    "print(\"Total Income (Loop):\", total_income_loop)\n",
    "print(\"Total Income (Vectorized):\", total_income_vectorized)\n",
    "print(\"Filtered Data (Age > 50):\\n\", filtered_data.head())\n",
    "print(\"Income in Thousands:\\n\", df[['name', 'income_thousands']].head())\n",
    "print(\"First Names:\\n\", df[['name', 'first_name']].head())\n"
   ]
  }
 ],
 "metadata": {
  "kernelspec": {
   "display_name": "Python 3",
   "language": "python",
   "name": "python3"
  },
  "language_info": {
   "codemirror_mode": {
    "name": "ipython",
    "version": 3
   },
   "file_extension": ".py",
   "mimetype": "text/x-python",
   "name": "python",
   "nbconvert_exporter": "python",
   "pygments_lexer": "ipython3",
   "version": "3.12.3"
  }
 },
 "nbformat": 4,
 "nbformat_minor": 2
}
