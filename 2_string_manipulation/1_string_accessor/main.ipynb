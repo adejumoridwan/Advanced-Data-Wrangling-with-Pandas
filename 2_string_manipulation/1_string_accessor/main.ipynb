{
 "cells": [
  {
   "cell_type": "markdown",
   "metadata": {},
   "source": [
    "# Lecture 2.1: Working with String Data Types (str accessor, methods) in Pandas\n",
    "\n",
    "## Introduction\n",
    "In this lecture, we will dive into the world of string data types in Pandas and explore the powerful `str` accessor and its associated methods. Pandas provides a comprehensive set of string manipulation tools that make working with text data a breeze. We will also showcase practical examples using text data from the scikit-learn library.\n",
    "\n",
    "## The `str` Accessor\n",
    "The `str` accessor in Pandas allows you to access a wide range of string-related methods and properties for Series and DataFrame columns with string data types. This accessor provides a convenient way to perform common string operations, such as:\n",
    "\n",
    "- Extracting substrings\n",
    "- Performing string transformations\n",
    "- Checking string patterns\n",
    "- Splitting and joining strings\n",
    "- And much more\n",
    "\n",
    "To access the `str` accessor, you can simply use the dot notation on a Series or DataFrame column, like this: `df['column_name'].str.method()`.\n",
    "\n",
    "## Common `str` Methods\n",
    "Here are some of the most commonly used `str` methods in Pandas:\n",
    "\n",
    "1. **`len()`**: Returns the length of each string in the Series or DataFrame column.\n",
    "2. **`lower()`** and **`upper()`**: Convert strings to lowercase or uppercase, respectively.\n",
    "3. **`replace()`**: Replaces occurrences of a pattern with a new string.\n",
    "4. **`split()`**: Splits strings at the specified separator and returns a Series of lists.\n",
    "5. **`cat()`**: Concatenates strings in the Series or DataFrame column.\n",
    "6. **`contains()`**: Checks if each string contains the specified pattern and returns a boolean Series.\n",
    "7. **`strip()`**, **`lstrip()`**, and **`rstrip()`**: Remove leading and/or trailing whitespace.\n",
    "8. **`slice()`**, **`slice_replace()`**, and **`extract()`**: Extract substrings.\n",
    "\n",
    "## Practical Examples\n",
    "Let's dive into some practical examples using text data from the scikit-learn library. We'll be working with the `20_newsgroup` dataset, which contains a collection of newsgroup documents."
   ]
  },
  {
   "cell_type": "code",
   "execution_count": 5,
   "metadata": {},
   "outputs": [],
   "source": [
    "import pandas as pd\n",
    "from sklearn.datasets import fetch_20newsgroups\n",
    "\n",
    "# Load the 20 newsgroup dataset\n",
    "news = fetch_20newsgroups(subset='all')\n",
    "data = pd.DataFrame({'text': news.data})"
   ]
  },
  {
   "cell_type": "markdown",
   "metadata": {},
   "source": [
    "1. **Counting the number of characters in each text:**"
   ]
  },
  {
   "cell_type": "code",
   "execution_count": 6,
   "metadata": {},
   "outputs": [
    {
     "name": "stdout",
     "output_type": "stream",
     "text": [
      "0     902\n",
      "1     963\n",
      "2    3780\n",
      "3    3096\n",
      "4     910\n",
      "Name: char_count, dtype: int64\n"
     ]
    }
   ],
   "source": [
    "data['char_count'] = data['text'].str.len()\n",
    "print(data['char_count'].head())"
   ]
  },
  {
   "cell_type": "markdown",
   "metadata": {},
   "source": [
    "2. **Converting all text to lowercase:**"
   ]
  },
  {
   "cell_type": "code",
   "execution_count": 7,
   "metadata": {},
   "outputs": [
    {
     "name": "stdout",
     "output_type": "stream",
     "text": [
      "0    from: mamatha devineni ratnam <mr47+@andrew.cm...\n",
      "1    from: mblawson@midway.ecn.uoknor.edu (matthew ...\n",
      "2    from: hilmi-er@dsv.su.se (hilmi eren)\\nsubject...\n",
      "3    from: guyd@austin.ibm.com (guy dawson)\\nsubjec...\n",
      "4    from: alexander samuel mcdiarmid <am2o+@andrew...\n",
      "Name: text_lower, dtype: object\n"
     ]
    }
   ],
   "source": [
    "data['text_lower'] = data['text'].str.lower()\n",
    "print(data['text_lower'].head())"
   ]
  },
  {
   "cell_type": "markdown",
   "metadata": {},
   "source": [
    "3. **Replacing all occurrences of the word 'the' with 'a':**"
   ]
  },
  {
   "cell_type": "code",
   "execution_count": 8,
   "metadata": {},
   "outputs": [
    {
     "name": "stdout",
     "output_type": "stream",
     "text": [
      "0    From: Mamatha Devineni Ratnam <mr47+@andrew.cm...\n",
      "1    From: mblawson@midway.ecn.uoknor.edu (Mataw B ...\n",
      "2    From: hilmi-er@dsv.su.se (Hilmi Eren)\\nSubject...\n",
      "3    From: guyd@austin.ibm.com (Guy Dawson)\\nSubjec...\n",
      "4    From: Alexander Samuel McDiarmid <am2o+@andrew...\n",
      "Name: text_replaced, dtype: object\n"
     ]
    }
   ],
   "source": [
    "data['text_replaced'] = data['text'].str.replace('the', 'a')\n",
    "print(data['text_replaced'].head())"
   ]
  },
  {
   "cell_type": "markdown",
   "metadata": {},
   "source": [
    "4. **Splitting the text into a list of words:**"
   ]
  },
  {
   "cell_type": "code",
   "execution_count": 9,
   "metadata": {},
   "outputs": [
    {
     "name": "stdout",
     "output_type": "stream",
     "text": [
      "0    [From:, Mamatha, Devineni, Ratnam, <mr47+@andr...\n",
      "1    [From:, mblawson@midway.ecn.uoknor.edu, (Matth...\n",
      "2    [From:, hilmi-er@dsv.su.se, (Hilmi, Eren), Sub...\n",
      "3    [From:, guyd@austin.ibm.com, (Guy, Dawson), Su...\n",
      "4    [From:, Alexander, Samuel, McDiarmid, <am2o+@a...\n",
      "Name: text_split, dtype: object\n"
     ]
    }
   ],
   "source": [
    "data['text_split'] = data['text'].str.split()\n",
    "print(data['text_split'].head())"
   ]
  },
  {
   "cell_type": "markdown",
   "metadata": {},
   "source": [
    "5. **Checking if each text contains the word 'python':**"
   ]
  },
  {
   "cell_type": "code",
   "execution_count": 10,
   "metadata": {},
   "outputs": [
    {
     "name": "stdout",
     "output_type": "stream",
     "text": [
      "0    False\n",
      "1    False\n",
      "2    False\n",
      "3    False\n",
      "4    False\n",
      "Name: contains_python, dtype: bool\n"
     ]
    }
   ],
   "source": [
    "data['contains_python'] = data['text'].str.contains('python')\n",
    "print(data['contains_python'].head())"
   ]
  },
  {
   "cell_type": "markdown",
   "metadata": {},
   "source": [
    "6. **Extracting the first 50 characters of each text:**"
   ]
  },
  {
   "cell_type": "code",
   "execution_count": 12,
   "metadata": {},
   "outputs": [
    {
     "name": "stdout",
     "output_type": "stream",
     "text": [
      "0    From: Mama\n",
      "1    From: mbla\n",
      "2    From: hilm\n",
      "3    From: guyd\n",
      "4    From: Alex\n",
      "Name: text_extract, dtype: object\n"
     ]
    }
   ],
   "source": [
    "data['text_extract'] = data['text'].str.slice(stop=10)\n",
    "print(data['text_extract'].head())"
   ]
  }
 ],
 "metadata": {
  "kernelspec": {
   "display_name": "Python 3",
   "language": "python",
   "name": "python3"
  },
  "language_info": {
   "codemirror_mode": {
    "name": "ipython",
    "version": 3
   },
   "file_extension": ".py",
   "mimetype": "text/x-python",
   "name": "python",
   "nbconvert_exporter": "python",
   "pygments_lexer": "ipython3",
   "version": "3.12.2"
  }
 },
 "nbformat": 4,
 "nbformat_minor": 2
}
