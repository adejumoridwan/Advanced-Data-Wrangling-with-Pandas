{
 "cells": [
  {
   "cell_type": "markdown",
   "metadata": {},
   "source": [
    "# Lecture 2.2: Regular Expressions for Advanced String Cleaning and Feature Engineering in Pandas\n",
    "\n",
    "## Introduction\n",
    "In this lecture, we will explore the power of regular expressions (regex) and how they can be leveraged in Pandas for advanced string cleaning and feature engineering tasks. Regular expressions provide a powerful and flexible way to match, extract, and manipulate text patterns, enabling you to tackle complex text data challenges with ease. We will dive into practical examples using text data from the scikit-learn library to showcase the capabilities of regex in Pandas.\n",
    "\n",
    "## Understanding Regular Expressions\n",
    "Regular expressions are a sequence of characters that define a search pattern. They are a powerful tool for working with text data, as they allow you to perform complex text matching and manipulation operations. Pandas' `str` accessor provides seamless integration with regular expressions, making it easy to apply these patterns to your data.\n",
    "\n",
    "Here are some common regular expression operators and their meanings:\n",
    "\n",
    "- **`.`** (dot): Matches any single character except newline\n",
    "- **`^`** (caret): Matches the beginning of the string\n",
    "- **`$`** (dollar sign): Matches the end of the string\n",
    "- **`*`** (asterisk): Matches zero or more occurrences of the preceding character or group\n",
    "- **`+`** (plus): Matches one or more occurrences of the preceding character or group\n",
    "- **`?`** (question mark): Matches zero or one occurrence of the preceding character or group\n",
    "- **`[]`** (square brackets): Defines a character class, matching any one of the enclosed characters"
   ]
  },
  {
   "cell_type": "markdown",
   "metadata": {},
   "source": [
    "## Practical Examples\n",
    "Let's dive into some practical examples using text data from the scikit-learn `20_newsgroup` dataset."
   ]
  },
  {
   "cell_type": "code",
   "execution_count": 1,
   "metadata": {},
   "outputs": [],
   "source": [
    "import pandas as pd\n",
    "from sklearn.datasets import fetch_20newsgroups\n",
    "\n",
    "# Load the 20 newsgroup dataset\n",
    "news = fetch_20newsgroups(subset='all')\n",
    "data = pd.DataFrame({'text': news.data})"
   ]
  },
  {
   "cell_type": "markdown",
   "metadata": {},
   "source": [
    "1. **Removing email addresses:**"
   ]
  },
  {
   "cell_type": "code",
   "execution_count": 2,
   "metadata": {},
   "outputs": [
    {
     "name": "stdout",
     "output_type": "stream",
     "text": [
      "0    From: Mamatha Devineni Ratnam \\nSubject: Pens ...\n",
      "1    From:  (Matthew B Lawson)\\nSubject: Which high...\n",
      "2    From:  (Hilmi Eren)\\nSubject: Re: ARMENIA SAYS...\n",
      "3    From:  (Guy Dawson)\\nSubject: Re: IDE vs SCSI,...\n",
      "4    From: Alexander Samuel McDiarmid \\nSubject: dr...\n",
      "Name: text_cleaned, dtype: object\n"
     ]
    }
   ],
   "source": [
    "data['text_cleaned'] = data['text'].str.replace(r'\\S+@\\S+', '', regex=True)\n",
    "print(data['text_cleaned'].head())"
   ]
  },
  {
   "cell_type": "markdown",
   "metadata": {},
   "source": [
    "2. **Extracting URLs:**"
   ]
  },
  {
   "cell_type": "code",
   "execution_count": 3,
   "metadata": {},
   "outputs": [
    {
     "name": "stdout",
     "output_type": "stream",
     "text": [
      "0    NaN\n",
      "1    NaN\n",
      "2    NaN\n",
      "3    NaN\n",
      "4    NaN\n",
      "Name: urls, dtype: object\n"
     ]
    }
   ],
   "source": [
    "data['urls'] = data['text'].str.extract(r'(https?://\\S+)', expand=False)\n",
    "print(data['urls'].head())"
   ]
  },
  {
   "cell_type": "markdown",
   "metadata": {},
   "source": [
    "3. **Counting the number of digits in each text:**"
   ]
  },
  {
   "cell_type": "code",
   "execution_count": 4,
   "metadata": {},
   "outputs": [
    {
     "name": "stdout",
     "output_type": "stream",
     "text": [
      "0     5\n",
      "1    11\n",
      "2     4\n",
      "3    65\n",
      "4    18\n",
      "Name: digit_count, dtype: int64\n"
     ]
    }
   ],
   "source": [
    "data['digit_count'] = data['text'].str.count(r'\\d')\n",
    "print(data['digit_count'].head())"
   ]
  },
  {
   "cell_type": "markdown",
   "metadata": {},
   "source": [
    "4. **Removing HTML tags:**"
   ]
  },
  {
   "cell_type": "code",
   "execution_count": 5,
   "metadata": {},
   "outputs": [
    {
     "name": "stdout",
     "output_type": "stream",
     "text": [
      "0    From: Mamatha Devineni Ratnam \\nSubject: Pens ...\n",
      "1    From: mblawson@midway.ecn.uoknor.edu (Matthew ...\n",
      "2    From: hilmi-er@dsv.su.se (Hilmi Eren)\\nSubject...\n",
      "3    From: guyd@austin.ibm.com (Guy Dawson)\\nSubjec...\n",
      "4    From: Alexander Samuel McDiarmid \\nSubject: dr...\n",
      "Name: text_cleaned, dtype: object\n"
     ]
    }
   ],
   "source": [
    "data['text_cleaned'] = data['text'].str.replace(r'<[^>]+>', '', regex=True)\n",
    "print(data['text_cleaned'].head())"
   ]
  },
  {
   "cell_type": "markdown",
   "metadata": {},
   "source": [
    "5. **Extracting email domains:**"
   ]
  },
  {
   "cell_type": "code",
   "execution_count": 6,
   "metadata": {},
   "outputs": [
    {
     "name": "stdout",
     "output_type": "stream",
     "text": [
      "0          andrew.cmu.edu>\n",
      "1    midway.ecn.uoknor.edu\n",
      "2                dsv.su.se\n",
      "3           austin.ibm.com\n",
      "4          andrew.cmu.edu>\n",
      "Name: email_domain, dtype: object\n"
     ]
    }
   ],
   "source": [
    "data['email_domain'] = data['text'].str.extract(r'\\S+@(\\S+)', expand=False)\n",
    "print(data['email_domain'].head())"
   ]
  },
  {
   "cell_type": "markdown",
   "metadata": {},
   "source": [
    "6. **Splitting text into words and counting word frequencies:**"
   ]
  },
  {
   "cell_type": "code",
   "execution_count": 10,
   "metadata": {},
   "outputs": [
    {
     "data": {
      "text/html": [
       "<div>\n",
       "<style scoped>\n",
       "    .dataframe tbody tr th:only-of-type {\n",
       "        vertical-align: middle;\n",
       "    }\n",
       "\n",
       "    .dataframe tbody tr th {\n",
       "        vertical-align: top;\n",
       "    }\n",
       "\n",
       "    .dataframe thead th {\n",
       "        text-align: right;\n",
       "    }\n",
       "</style>\n",
       "<table border=\"1\" class=\"dataframe\">\n",
       "  <thead>\n",
       "    <tr style=\"text-align: right;\">\n",
       "      <th></th>\n",
       "      <th>text</th>\n",
       "      <th>text_cleaned</th>\n",
       "      <th>urls</th>\n",
       "      <th>digit_count</th>\n",
       "      <th>email_domain</th>\n",
       "      <th>words</th>\n",
       "      <th>word_count</th>\n",
       "    </tr>\n",
       "  </thead>\n",
       "  <tbody>\n",
       "    <tr>\n",
       "      <th>0</th>\n",
       "      <td>From: Mamatha Devineni Ratnam &lt;mr47+@andrew.cm...</td>\n",
       "      <td>From: Mamatha Devineni Ratnam \\nSubject: Pens ...</td>\n",
       "      <td>NaN</td>\n",
       "      <td>5</td>\n",
       "      <td>andrew.cmu.edu&gt;</td>\n",
       "      <td>[From:, Mamatha, Devineni, Ratnam, &lt;mr47+@andr...</td>\n",
       "      <td>157</td>\n",
       "    </tr>\n",
       "    <tr>\n",
       "      <th>1</th>\n",
       "      <td>From: mblawson@midway.ecn.uoknor.edu (Matthew ...</td>\n",
       "      <td>From: mblawson@midway.ecn.uoknor.edu (Matthew ...</td>\n",
       "      <td>NaN</td>\n",
       "      <td>11</td>\n",
       "      <td>midway.ecn.uoknor.edu</td>\n",
       "      <td>[From:, mblawson@midway.ecn.uoknor.edu, (Matth...</td>\n",
       "      <td>134</td>\n",
       "    </tr>\n",
       "    <tr>\n",
       "      <th>2</th>\n",
       "      <td>From: hilmi-er@dsv.su.se (Hilmi Eren)\\nSubject...</td>\n",
       "      <td>From: hilmi-er@dsv.su.se (Hilmi Eren)\\nSubject...</td>\n",
       "      <td>NaN</td>\n",
       "      <td>4</td>\n",
       "      <td>dsv.su.se</td>\n",
       "      <td>[From:, hilmi-er@dsv.su.se, (Hilmi, Eren), Sub...</td>\n",
       "      <td>568</td>\n",
       "    </tr>\n",
       "    <tr>\n",
       "      <th>3</th>\n",
       "      <td>From: guyd@austin.ibm.com (Guy Dawson)\\nSubjec...</td>\n",
       "      <td>From: guyd@austin.ibm.com (Guy Dawson)\\nSubjec...</td>\n",
       "      <td>NaN</td>\n",
       "      <td>65</td>\n",
       "      <td>austin.ibm.com</td>\n",
       "      <td>[From:, guyd@austin.ibm.com, (Guy, Dawson), Su...</td>\n",
       "      <td>538</td>\n",
       "    </tr>\n",
       "    <tr>\n",
       "      <th>4</th>\n",
       "      <td>From: Alexander Samuel McDiarmid &lt;am2o+@andrew...</td>\n",
       "      <td>From: Alexander Samuel McDiarmid \\nSubject: dr...</td>\n",
       "      <td>NaN</td>\n",
       "      <td>18</td>\n",
       "      <td>andrew.cmu.edu&gt;</td>\n",
       "      <td>[From:, Alexander, Samuel, McDiarmid, &lt;am2o+@a...</td>\n",
       "      <td>150</td>\n",
       "    </tr>\n",
       "  </tbody>\n",
       "</table>\n",
       "</div>"
      ],
      "text/plain": [
       "                                                text  \\\n",
       "0  From: Mamatha Devineni Ratnam <mr47+@andrew.cm...   \n",
       "1  From: mblawson@midway.ecn.uoknor.edu (Matthew ...   \n",
       "2  From: hilmi-er@dsv.su.se (Hilmi Eren)\\nSubject...   \n",
       "3  From: guyd@austin.ibm.com (Guy Dawson)\\nSubjec...   \n",
       "4  From: Alexander Samuel McDiarmid <am2o+@andrew...   \n",
       "\n",
       "                                        text_cleaned urls  digit_count  \\\n",
       "0  From: Mamatha Devineni Ratnam \\nSubject: Pens ...  NaN            5   \n",
       "1  From: mblawson@midway.ecn.uoknor.edu (Matthew ...  NaN           11   \n",
       "2  From: hilmi-er@dsv.su.se (Hilmi Eren)\\nSubject...  NaN            4   \n",
       "3  From: guyd@austin.ibm.com (Guy Dawson)\\nSubjec...  NaN           65   \n",
       "4  From: Alexander Samuel McDiarmid \\nSubject: dr...  NaN           18   \n",
       "\n",
       "            email_domain                                              words  \\\n",
       "0        andrew.cmu.edu>  [From:, Mamatha, Devineni, Ratnam, <mr47+@andr...   \n",
       "1  midway.ecn.uoknor.edu  [From:, mblawson@midway.ecn.uoknor.edu, (Matth...   \n",
       "2              dsv.su.se  [From:, hilmi-er@dsv.su.se, (Hilmi, Eren), Sub...   \n",
       "3         austin.ibm.com  [From:, guyd@austin.ibm.com, (Guy, Dawson), Su...   \n",
       "4        andrew.cmu.edu>  [From:, Alexander, Samuel, McDiarmid, <am2o+@a...   \n",
       "\n",
       "   word_count  \n",
       "0         157  \n",
       "1         134  \n",
       "2         568  \n",
       "3         538  \n",
       "4         150  "
      ]
     },
     "execution_count": 10,
     "metadata": {},
     "output_type": "execute_result"
    }
   ],
   "source": [
    "data['word_count'] = data['text'].str.split().str.len()\n",
    "data.head()"
   ]
  },
  {
   "cell_type": "markdown",
   "metadata": {},
   "source": [
    "## Feature Engineering with Regular Expressions\n",
    "Regular expressions can also be used for feature engineering, where you can create new features based on specific text patterns. For example, you can extract the number of URLs, email addresses, or hashtags in a text, and use these as features in your machine learning models."
   ]
  },
  {
   "cell_type": "code",
   "execution_count": 12,
   "metadata": {},
   "outputs": [
    {
     "data": {
      "text/html": [
       "<div>\n",
       "<style scoped>\n",
       "    .dataframe tbody tr th:only-of-type {\n",
       "        vertical-align: middle;\n",
       "    }\n",
       "\n",
       "    .dataframe tbody tr th {\n",
       "        vertical-align: top;\n",
       "    }\n",
       "\n",
       "    .dataframe thead th {\n",
       "        text-align: right;\n",
       "    }\n",
       "</style>\n",
       "<table border=\"1\" class=\"dataframe\">\n",
       "  <thead>\n",
       "    <tr style=\"text-align: right;\">\n",
       "      <th></th>\n",
       "      <th>text</th>\n",
       "      <th>text_cleaned</th>\n",
       "      <th>urls</th>\n",
       "      <th>digit_count</th>\n",
       "      <th>email_domain</th>\n",
       "      <th>words</th>\n",
       "      <th>word_count</th>\n",
       "      <th>num_urls</th>\n",
       "      <th>num_emails</th>\n",
       "      <th>num_hashtags</th>\n",
       "    </tr>\n",
       "  </thead>\n",
       "  <tbody>\n",
       "    <tr>\n",
       "      <th>0</th>\n",
       "      <td>From: Mamatha Devineni Ratnam &lt;mr47+@andrew.cm...</td>\n",
       "      <td>From: Mamatha Devineni Ratnam \\nSubject: Pens ...</td>\n",
       "      <td>NaN</td>\n",
       "      <td>5</td>\n",
       "      <td>andrew.cmu.edu&gt;</td>\n",
       "      <td>[From:, Mamatha, Devineni, Ratnam, &lt;mr47+@andr...</td>\n",
       "      <td>157</td>\n",
       "      <td>0</td>\n",
       "      <td>1</td>\n",
       "      <td>0</td>\n",
       "    </tr>\n",
       "    <tr>\n",
       "      <th>1</th>\n",
       "      <td>From: mblawson@midway.ecn.uoknor.edu (Matthew ...</td>\n",
       "      <td>From: mblawson@midway.ecn.uoknor.edu (Matthew ...</td>\n",
       "      <td>NaN</td>\n",
       "      <td>11</td>\n",
       "      <td>midway.ecn.uoknor.edu</td>\n",
       "      <td>[From:, mblawson@midway.ecn.uoknor.edu, (Matth...</td>\n",
       "      <td>134</td>\n",
       "      <td>0</td>\n",
       "      <td>2</td>\n",
       "      <td>0</td>\n",
       "    </tr>\n",
       "    <tr>\n",
       "      <th>2</th>\n",
       "      <td>From: hilmi-er@dsv.su.se (Hilmi Eren)\\nSubject...</td>\n",
       "      <td>From: hilmi-er@dsv.su.se (Hilmi Eren)\\nSubject...</td>\n",
       "      <td>NaN</td>\n",
       "      <td>4</td>\n",
       "      <td>dsv.su.se</td>\n",
       "      <td>[From:, hilmi-er@dsv.su.se, (Hilmi, Eren), Sub...</td>\n",
       "      <td>568</td>\n",
       "      <td>0</td>\n",
       "      <td>2</td>\n",
       "      <td>0</td>\n",
       "    </tr>\n",
       "    <tr>\n",
       "      <th>3</th>\n",
       "      <td>From: guyd@austin.ibm.com (Guy Dawson)\\nSubjec...</td>\n",
       "      <td>From: guyd@austin.ibm.com (Guy Dawson)\\nSubjec...</td>\n",
       "      <td>NaN</td>\n",
       "      <td>65</td>\n",
       "      <td>austin.ibm.com</td>\n",
       "      <td>[From:, guyd@austin.ibm.com, (Guy, Dawson), Su...</td>\n",
       "      <td>538</td>\n",
       "      <td>0</td>\n",
       "      <td>8</td>\n",
       "      <td>0</td>\n",
       "    </tr>\n",
       "    <tr>\n",
       "      <th>4</th>\n",
       "      <td>From: Alexander Samuel McDiarmid &lt;am2o+@andrew...</td>\n",
       "      <td>From: Alexander Samuel McDiarmid \\nSubject: dr...</td>\n",
       "      <td>NaN</td>\n",
       "      <td>18</td>\n",
       "      <td>andrew.cmu.edu&gt;</td>\n",
       "      <td>[From:, Alexander, Samuel, McDiarmid, &lt;am2o+@a...</td>\n",
       "      <td>150</td>\n",
       "      <td>0</td>\n",
       "      <td>1</td>\n",
       "      <td>0</td>\n",
       "    </tr>\n",
       "    <tr>\n",
       "      <th>...</th>\n",
       "      <td>...</td>\n",
       "      <td>...</td>\n",
       "      <td>...</td>\n",
       "      <td>...</td>\n",
       "      <td>...</td>\n",
       "      <td>...</td>\n",
       "      <td>...</td>\n",
       "      <td>...</td>\n",
       "      <td>...</td>\n",
       "      <td>...</td>\n",
       "    </tr>\n",
       "    <tr>\n",
       "      <th>18841</th>\n",
       "      <td>From: jim.zisfein@factory.com (Jim Zisfein) \\n...</td>\n",
       "      <td>From: jim.zisfein@factory.com (Jim Zisfein) \\n...</td>\n",
       "      <td>NaN</td>\n",
       "      <td>16</td>\n",
       "      <td>factory.com</td>\n",
       "      <td>[From:, jim.zisfein@factory.com, (Jim, Zisfein...</td>\n",
       "      <td>337</td>\n",
       "      <td>0</td>\n",
       "      <td>4</td>\n",
       "      <td>0</td>\n",
       "    </tr>\n",
       "    <tr>\n",
       "      <th>18842</th>\n",
       "      <td>From: rdell@cbnewsf.cb.att.com (richard.b.dell...</td>\n",
       "      <td>From: rdell@cbnewsf.cb.att.com (richard.b.dell...</td>\n",
       "      <td>NaN</td>\n",
       "      <td>21</td>\n",
       "      <td>cbnewsf.cb.att.com</td>\n",
       "      <td>[From:, rdell@cbnewsf.cb.att.com, (richard.b.d...</td>\n",
       "      <td>144</td>\n",
       "      <td>0</td>\n",
       "      <td>5</td>\n",
       "      <td>0</td>\n",
       "    </tr>\n",
       "    <tr>\n",
       "      <th>18843</th>\n",
       "      <td>From: westes@netcom.com (Will Estes)\\nSubject:...</td>\n",
       "      <td>From: westes@netcom.com (Will Estes)\\nSubject:...</td>\n",
       "      <td>NaN</td>\n",
       "      <td>10</td>\n",
       "      <td>netcom.com</td>\n",
       "      <td>[From:, westes@netcom.com, (Will, Estes), Subj...</td>\n",
       "      <td>139</td>\n",
       "      <td>0</td>\n",
       "      <td>2</td>\n",
       "      <td>0</td>\n",
       "    </tr>\n",
       "    <tr>\n",
       "      <th>18844</th>\n",
       "      <td>From: steve@hcrlgw (Steven Collins)\\nSubject: ...</td>\n",
       "      <td>From: steve@hcrlgw (Steven Collins)\\nSubject: ...</td>\n",
       "      <td>NaN</td>\n",
       "      <td>32</td>\n",
       "      <td>hcrlgw</td>\n",
       "      <td>[From:, steve@hcrlgw, (Steven, Collins), Subje...</td>\n",
       "      <td>194</td>\n",
       "      <td>0</td>\n",
       "      <td>4</td>\n",
       "      <td>0</td>\n",
       "    </tr>\n",
       "    <tr>\n",
       "      <th>18845</th>\n",
       "      <td>From: chriss@netcom.com (Chris Silvester)\\nSub...</td>\n",
       "      <td>From: chriss@netcom.com (Chris Silvester)\\nSub...</td>\n",
       "      <td>NaN</td>\n",
       "      <td>18</td>\n",
       "      <td>netcom.com</td>\n",
       "      <td>[From:, chriss@netcom.com, (Chris, Silvester),...</td>\n",
       "      <td>287</td>\n",
       "      <td>0</td>\n",
       "      <td>4</td>\n",
       "      <td>0</td>\n",
       "    </tr>\n",
       "  </tbody>\n",
       "</table>\n",
       "<p>18846 rows × 10 columns</p>\n",
       "</div>"
      ],
      "text/plain": [
       "                                                    text  \\\n",
       "0      From: Mamatha Devineni Ratnam <mr47+@andrew.cm...   \n",
       "1      From: mblawson@midway.ecn.uoknor.edu (Matthew ...   \n",
       "2      From: hilmi-er@dsv.su.se (Hilmi Eren)\\nSubject...   \n",
       "3      From: guyd@austin.ibm.com (Guy Dawson)\\nSubjec...   \n",
       "4      From: Alexander Samuel McDiarmid <am2o+@andrew...   \n",
       "...                                                  ...   \n",
       "18841  From: jim.zisfein@factory.com (Jim Zisfein) \\n...   \n",
       "18842  From: rdell@cbnewsf.cb.att.com (richard.b.dell...   \n",
       "18843  From: westes@netcom.com (Will Estes)\\nSubject:...   \n",
       "18844  From: steve@hcrlgw (Steven Collins)\\nSubject: ...   \n",
       "18845  From: chriss@netcom.com (Chris Silvester)\\nSub...   \n",
       "\n",
       "                                            text_cleaned urls  digit_count  \\\n",
       "0      From: Mamatha Devineni Ratnam \\nSubject: Pens ...  NaN            5   \n",
       "1      From: mblawson@midway.ecn.uoknor.edu (Matthew ...  NaN           11   \n",
       "2      From: hilmi-er@dsv.su.se (Hilmi Eren)\\nSubject...  NaN            4   \n",
       "3      From: guyd@austin.ibm.com (Guy Dawson)\\nSubjec...  NaN           65   \n",
       "4      From: Alexander Samuel McDiarmid \\nSubject: dr...  NaN           18   \n",
       "...                                                  ...  ...          ...   \n",
       "18841  From: jim.zisfein@factory.com (Jim Zisfein) \\n...  NaN           16   \n",
       "18842  From: rdell@cbnewsf.cb.att.com (richard.b.dell...  NaN           21   \n",
       "18843  From: westes@netcom.com (Will Estes)\\nSubject:...  NaN           10   \n",
       "18844  From: steve@hcrlgw (Steven Collins)\\nSubject: ...  NaN           32   \n",
       "18845  From: chriss@netcom.com (Chris Silvester)\\nSub...  NaN           18   \n",
       "\n",
       "                email_domain  \\\n",
       "0            andrew.cmu.edu>   \n",
       "1      midway.ecn.uoknor.edu   \n",
       "2                  dsv.su.se   \n",
       "3             austin.ibm.com   \n",
       "4            andrew.cmu.edu>   \n",
       "...                      ...   \n",
       "18841            factory.com   \n",
       "18842     cbnewsf.cb.att.com   \n",
       "18843             netcom.com   \n",
       "18844                 hcrlgw   \n",
       "18845             netcom.com   \n",
       "\n",
       "                                                   words  word_count  \\\n",
       "0      [From:, Mamatha, Devineni, Ratnam, <mr47+@andr...         157   \n",
       "1      [From:, mblawson@midway.ecn.uoknor.edu, (Matth...         134   \n",
       "2      [From:, hilmi-er@dsv.su.se, (Hilmi, Eren), Sub...         568   \n",
       "3      [From:, guyd@austin.ibm.com, (Guy, Dawson), Su...         538   \n",
       "4      [From:, Alexander, Samuel, McDiarmid, <am2o+@a...         150   \n",
       "...                                                  ...         ...   \n",
       "18841  [From:, jim.zisfein@factory.com, (Jim, Zisfein...         337   \n",
       "18842  [From:, rdell@cbnewsf.cb.att.com, (richard.b.d...         144   \n",
       "18843  [From:, westes@netcom.com, (Will, Estes), Subj...         139   \n",
       "18844  [From:, steve@hcrlgw, (Steven, Collins), Subje...         194   \n",
       "18845  [From:, chriss@netcom.com, (Chris, Silvester),...         287   \n",
       "\n",
       "       num_urls  num_emails  num_hashtags  \n",
       "0             0           1             0  \n",
       "1             0           2             0  \n",
       "2             0           2             0  \n",
       "3             0           8             0  \n",
       "4             0           1             0  \n",
       "...         ...         ...           ...  \n",
       "18841         0           4             0  \n",
       "18842         0           5             0  \n",
       "18843         0           2             0  \n",
       "18844         0           4             0  \n",
       "18845         0           4             0  \n",
       "\n",
       "[18846 rows x 10 columns]"
      ]
     },
     "execution_count": 12,
     "metadata": {},
     "output_type": "execute_result"
    }
   ],
   "source": [
    "# Extract the number of URLs\n",
    "data['num_urls'] = data['text'].str.count(r'https?://\\S+')\n",
    "\n",
    "# Extract the number of email addresses\n",
    "data['num_emails'] = data['text'].str.count(r'\\S+@\\S+')\n",
    "\n",
    "# Extract the number of hashtags\n",
    "data['num_hashtags'] = data['text'].str.count(r'#\\w+')"
   ]
  }
 ],
 "metadata": {
  "kernelspec": {
   "display_name": "Python 3",
   "language": "python",
   "name": "python3"
  },
  "language_info": {
   "codemirror_mode": {
    "name": "ipython",
    "version": 3
   },
   "file_extension": ".py",
   "mimetype": "text/x-python",
   "name": "python",
   "nbconvert_exporter": "python",
   "pygments_lexer": "ipython3",
   "version": "3.12.2"
  }
 },
 "nbformat": 4,
 "nbformat_minor": 2
}
