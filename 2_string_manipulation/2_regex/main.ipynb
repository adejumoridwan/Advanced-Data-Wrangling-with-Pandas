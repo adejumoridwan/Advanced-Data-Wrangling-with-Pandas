{
 "cells": [
  {
   "cell_type": "markdown",
   "metadata": {},
   "source": [
    "## **Lecture: Regular Expressions for Advanced String Cleaning and Feature Engineering**\n",
    "Regular expressions (regex) are powerful tools for working with text data in pandas. They allow you to perform complex string pattern matching, substitution, and extraction operations. This lecture note will cover the use of regular expressions for advanced string cleaning and feature engineering, with practical examples using datasets from the seaborn library. In pandas, you can leverage the power of regular expressions through the `str.contains()`, `str.extract()`, `str.replace()`, and `str.split()` methods, among others. Regular expressions can significantly simplify complex string operations and help you extract valuable information from your data.\n",
    "\n",
    "Let's start by importing the necessary libraries and loading a dataset from seaborn."
   ]
  },
  {
   "cell_type": "code",
   "execution_count": null,
   "metadata": {},
   "outputs": [],
   "source": [
    "import pandas as pd\n",
    "import seaborn as sns\n",
    "\n",
    "# Load the tips dataset from seaborn\n",
    "tips = sns.load_dataset(\"tips\")"
   ]
  },
  {
   "cell_type": "markdown",
   "metadata": {},
   "source": [
    "Before diving into examples, let's review some basic regular expression syntax:\n",
    "\n",
    "- `.` matches any character except newline\n",
    "- `\\d` matches any digit character\n",
    "- `\\w` matches any word character (alphanumeric and underscore)\n",
    "- `\\s` matches any whitespace character\n",
    "- `^` matches the start of a string\n",
    "- `$` matches the end of a string\n",
    "- `[]` matches any character within the brackets\n",
    "- `|` matches either the expression before or after the pipe\n",
    "- `()` groups expressions together"
   ]
  },
  {
   "cell_type": "markdown",
   "metadata": {},
   "source": [
    "**1. str.contains()**\n",
    "\n",
    "This method checks if each string element contains the specified regex pattern and returns a boolean Series."
   ]
  },
  {
   "cell_type": "code",
   "execution_count": null,
   "metadata": {},
   "outputs": [],
   "source": [
    "# Check if the 'time' column contains a digit followed by ':' and two digits\n",
    "tips['has_time_format'] = tips['time'].str.contains(r'\\d+:\\d{2}')\n",
    "print(tips['has_time_format'].head())"
   ]
  },
  {
   "cell_type": "markdown",
   "metadata": {},
   "source": [
    "\n",
    "**2. str.extract()**\n",
    "\n",
    "This method extracts substrings from each string element based on the specified regex pattern."
   ]
  },
  {
   "cell_type": "code",
   "execution_count": null,
   "metadata": {},
   "outputs": [],
   "source": [
    "# Extract the hour and minute from the 'time' column\n",
    "tips['time_components'] = tips['time'].str.extract(r'(\\d+):(\\d+)', expand=True)\n",
    "print(tips['time_components'].head())"
   ]
  },
  {
   "cell_type": "markdown",
   "metadata": {},
   "source": [
    "\n",
    "**3. str.replace()**\n",
    "\n",
    "This method replaces occurrences of a regex pattern in each string element with a specified value."
   ]
  },
  {
   "cell_type": "code",
   "execution_count": null,
   "metadata": {},
   "outputs": [],
   "source": [
    "# Replace all non-alphabetic characters with an empty string in the 'day' column\n",
    "tips['day_cleaned'] = tips['day'].str.replace(r'[^a-zA-Z]', '')\n",
    "print(tips['day_cleaned'].head())"
   ]
  },
  {
   "cell_type": "markdown",
   "metadata": {},
   "source": [
    "\n",
    "**4. str.split()**\n",
    "\n",
    "This method splits each string element by the specified regex pattern and returns a list of substrings."
   ]
  },
  {
   "cell_type": "code",
   "execution_count": null,
   "metadata": {},
   "outputs": [],
   "source": [
    "# Split the 'time' column on the colon (':') using regex\n",
    "tips['time_split'] = tips['time'].str.split(r':', expand=True)\n",
    "print(tips['time_split'].head())"
   ]
  },
  {
   "cell_type": "markdown",
   "metadata": {},
   "source": [
    "**5. Combining regex with other string methods**\n",
    "\n",
    "You can combine regular expressions with other string methods for more complex operations."
   ]
  },
  {
   "cell_type": "code",
   "execution_count": null,
   "metadata": {},
   "outputs": [],
   "source": [
    "# Extract the first word from the 'day' column\n",
    "tips['day_first_word'] = tips['day'].str.extract(r'(\\w+)', expand=False).str.lower()\n",
    "print(tips['day_first_word'].head())"
   ]
  },
  {
   "cell_type": "markdown",
   "metadata": {},
   "source": []
  }
 ],
 "metadata": {
  "kernelspec": {
   "display_name": "Python 3",
   "language": "python",
   "name": "python3"
  },
  "language_info": {
   "codemirror_mode": {
    "name": "ipython",
    "version": 3
   },
   "file_extension": ".py",
   "mimetype": "text/x-python",
   "name": "python",
   "nbconvert_exporter": "python",
   "pygments_lexer": "ipython3",
   "version": "3.12.2"
  }
 },
 "nbformat": 4,
 "nbformat_minor": 2
}
