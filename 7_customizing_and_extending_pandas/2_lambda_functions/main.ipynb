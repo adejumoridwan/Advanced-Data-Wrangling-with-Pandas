{
 "cells": [
  {
   "cell_type": "markdown",
   "metadata": {},
   "source": [
    "# Lambda Functions and Applying Custom Logic in Pandas\n",
    "\n",
    "## What is a Lambda Function?\n",
    "Lambda functions are small anonymous functions defined using the lambda keyword. They can have any number of arguments but only one expression. The expression is evaluated and returned.\n",
    "```\n",
    "lambda arguments: expression\n",
    "```"
   ]
  },
  {
   "cell_type": "code",
   "execution_count": 7,
   "metadata": {},
   "outputs": [
    {
     "name": "stdout",
     "output_type": "stream",
     "text": [
      "15\n"
     ]
    }
   ],
   "source": [
    "# A simple lambda function that adds 10 to the input\n",
    "add_ten = lambda x: x + 10\n",
    "print(add_ten(5))  # Output: 15\n"
   ]
  },
  {
   "cell_type": "markdown",
   "metadata": {},
   "source": [
    "## Applying Lambda Functions in Pandas\n",
    "\n",
    "Lambda functions are particularly useful in Pandas for applying operations on DataFrame columns using the apply method.\n",
    "\n",
    "### Creating a Sample Dataset using Faker\n",
    "Let's create a sample dataset using the Faker library."
   ]
  },
  {
   "cell_type": "code",
   "execution_count": 8,
   "metadata": {},
   "outputs": [
    {
     "name": "stdout",
     "output_type": "stream",
     "text": [
      "               name  age                        email  salary\n",
      "0     Sarah Fuentes   55      perezangela@example.org   40321\n",
      "1  Terry Strickland   58         sschmidt@example.net   87244\n",
      "2     Maria Harrell   79         robert69@example.net   81887\n",
      "3      Susan Howard   49         dwiggins@example.net   35414\n",
      "4     Regina Monroe   63  calderonvincent@example.org   91158\n",
      "5        Mark Clark   41        fsandoval@example.com   63297\n",
      "6      Anthony Park   37        brianna64@example.com   94617\n",
      "7  Angela Donaldson   72   brittanywright@example.org   88670\n",
      "8        Megan Rios   59      christine91@example.org   38638\n",
      "9    David Gonzalez   76      moonvanessa@example.net   96141\n"
     ]
    }
   ],
   "source": [
    "import pandas as pd\n",
    "from faker import Faker\n",
    "\n",
    "# Initialize Faker\n",
    "fake = Faker()\n",
    "\n",
    "# Generate fake data\n",
    "data = {\n",
    "    'name': [fake.name() for _ in range(10)],\n",
    "    'age': [fake.random_int(min=18, max=80) for _ in range(10)],\n",
    "    'email': [fake.email() for _ in range(10)],\n",
    "    'salary': [fake.random_int(min=30000, max=100000) for _ in range(10)]\n",
    "}\n",
    "\n",
    "# Create DataFrame\n",
    "df = pd.DataFrame(data)\n",
    "print(df)\n"
   ]
  },
  {
   "cell_type": "markdown",
   "metadata": {},
   "source": [
    "## Applying Lambda Functions\n",
    "\n",
    "### Calculate Tax"
   ]
  },
  {
   "cell_type": "code",
   "execution_count": 9,
   "metadata": {},
   "outputs": [
    {
     "name": "stdout",
     "output_type": "stream",
     "text": [
      "   salary     tax\n",
      "0   40321  4032.1\n",
      "1   87244  8724.4\n",
      "2   81887  8188.7\n",
      "3   35414  3541.4\n",
      "4   91158  9115.8\n",
      "5   63297  6329.7\n",
      "6   94617  9461.7\n",
      "7   88670  8867.0\n",
      "8   38638  3863.8\n",
      "9   96141  9614.1\n"
     ]
    }
   ],
   "source": [
    "# Assume a flat tax rate of 10%\n",
    "df['tax'] = df['salary'].apply(lambda x: x * 0.10)\n",
    "print(df[['salary', 'tax']])\n"
   ]
  },
  {
   "cell_type": "markdown",
   "metadata": {},
   "source": [
    "### Categorize Age Groups"
   ]
  },
  {
   "cell_type": "code",
   "execution_count": 10,
   "metadata": {},
   "outputs": [
    {
     "name": "stdout",
     "output_type": "stream",
     "text": [
      "   age age_group\n",
      "0   55     Adult\n",
      "1   58     Adult\n",
      "2   79    Senior\n",
      "3   49     Adult\n",
      "4   63    Senior\n",
      "5   41     Adult\n",
      "6   37     Adult\n",
      "7   72    Senior\n",
      "8   59     Adult\n",
      "9   76    Senior\n"
     ]
    }
   ],
   "source": [
    "# Categorize age into groups\n",
    "df['age_group'] = df['age'].apply(lambda x: 'Youth' if x < 30 else ('Adult' if x < 60 else 'Senior'))\n",
    "print(df[['age', 'age_group']])\n"
   ]
  },
  {
   "cell_type": "markdown",
   "metadata": {},
   "source": [
    "## Applying Custom Logic\n",
    "\n",
    "Custom logic can be applied using user-defined functions in combination with lambda functions or directly with the apply method.\n",
    "\n",
    "### Normalize Email Domains"
   ]
  },
  {
   "cell_type": "code",
   "execution_count": 11,
   "metadata": {},
   "outputs": [
    {
     "name": "stdout",
     "output_type": "stream",
     "text": [
      "                         email email_domain\n",
      "0      perezangela@example.org  example.org\n",
      "1         sschmidt@example.net  example.net\n",
      "2         robert69@example.net  example.net\n",
      "3         dwiggins@example.net  example.net\n",
      "4  calderonvincent@example.org  example.org\n",
      "5        fsandoval@example.com  example.com\n",
      "6        brianna64@example.com  example.com\n",
      "7   brittanywright@example.org  example.org\n",
      "8      christine91@example.org  example.org\n",
      "9      moonvanessa@example.net  example.net\n"
     ]
    }
   ],
   "source": [
    "def normalize_email(email):\n",
    "    return email.split('@')[1].lower()\n",
    "\n",
    "df['email_domain'] = df['email'].apply(normalize_email)\n",
    "print(df[['email', 'email_domain']])\n"
   ]
  },
  {
   "cell_type": "markdown",
   "metadata": {},
   "source": [
    "### Salary Adjustment Based on Age Group"
   ]
  },
  {
   "cell_type": "code",
   "execution_count": 12,
   "metadata": {},
   "outputs": [
    {
     "name": "stdout",
     "output_type": "stream",
     "text": [
      "  age_group  salary  adjusted_salary\n",
      "0     Adult   40321          40321.0\n",
      "1     Adult   87244          87244.0\n",
      "2    Senior   81887          90075.7\n",
      "3     Adult   35414          35414.0\n",
      "4    Senior   91158         100273.8\n",
      "5     Adult   63297          63297.0\n",
      "6     Adult   94617          94617.0\n",
      "7    Senior   88670          97537.0\n",
      "8     Adult   38638          38638.0\n",
      "9    Senior   96141         105755.1\n"
     ]
    }
   ],
   "source": [
    "def adjust_salary(row):\n",
    "    if row['age_group'] == 'Youth':\n",
    "        return row['salary'] * 1.05  # 5% increase\n",
    "    elif row['age_group'] == 'Senior':\n",
    "        return row['salary'] * 1.10  # 10% increase\n",
    "    return row['salary']\n",
    "\n",
    "df['adjusted_salary'] = df.apply(adjust_salary, axis=1)\n",
    "print(df[['age_group', 'salary', 'adjusted_salary']])\n"
   ]
  }
 ],
 "metadata": {
  "kernelspec": {
   "display_name": "Python 3",
   "language": "python",
   "name": "python3"
  },
  "language_info": {
   "codemirror_mode": {
    "name": "ipython",
    "version": 3
   },
   "file_extension": ".py",
   "mimetype": "text/x-python",
   "name": "python",
   "nbconvert_exporter": "python",
   "pygments_lexer": "ipython3",
   "version": "3.12.3"
  }
 },
 "nbformat": 4,
 "nbformat_minor": 2
}
