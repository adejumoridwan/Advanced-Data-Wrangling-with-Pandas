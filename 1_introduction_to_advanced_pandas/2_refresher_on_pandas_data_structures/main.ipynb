{
 "cells": [
  {
   "cell_type": "markdown",
   "metadata": {},
   "source": [
    "## Series"
   ]
  },
  {
   "cell_type": "markdown",
   "metadata": {},
   "source": [
    "- A Series is a one-dimensional labeled array\n",
    "- Can hold any data type (integers, floats, strings, etc.)\n",
    "- Each entry in a Series has an associated index label\n",
    "- You can think of a Series as a dictionary-like object\n",
    "  - Keys -> Index labels\n",
    "  - Values -> Data entries"
   ]
  },
  {
   "cell_type": "code",
   "execution_count": 2,
   "metadata": {},
   "outputs": [],
   "source": [
    "import pandas as pd\n",
    "\n",
    "# From a list\n",
    "s = pd.Series([1, 3, 5, 7, 9])\n",
    "\n",
    "# From a NumPy array \n",
    "import numpy as np\n",
    "s = pd.Series(np.random.randn(5))  \n",
    "\n",
    "# From a dictionary\n",
    "d = {'a': 1, 'b': 2, 'c': 3}\n",
    "s = pd.Series(d)"
   ]
  },
  {
   "cell_type": "markdown",
   "metadata": {},
   "source": [
    "### Key Series Operations"
   ]
  },
  {
   "cell_type": "markdown",
   "metadata": {},
   "source": [
    "- Accessing entries by label/position\n",
    "- Mathematical operations on data\n",
    "- Filtering and conditional operations"
   ]
  },
  {
   "cell_type": "markdown",
   "metadata": {},
   "source": [
    "## DataFrame"
   ]
  },
  {
   "cell_type": "markdown",
   "metadata": {},
   "source": [
    "- A DataFrame is a 2-dimensional labeled data structure\n",
    "- Data is stored in rows and columns, like a spreadsheet\n",
    "- Each column can be a different data type"
   ]
  },
  {
   "cell_type": "code",
   "execution_count": 3,
   "metadata": {},
   "outputs": [],
   "source": [
    "# From a dictionary of lists/arrays\n",
    "d = {'Name':['Sam', 'Ava', 'Raj'], 'Age':[25, 32, 19]}\n",
    "df = pd.DataFrame(d)\n",
    "\n",
    "# From a list of dictionaries \n",
    "people = [{'Name': 'Sam', 'Age': 25}, {'Name': 'Ava', 'Age': 32}]\n",
    "df = pd.DataFrame(people)"
   ]
  },
  {
   "cell_type": "markdown",
   "metadata": {},
   "source": [
    "### Key DataFrame Operations"
   ]
  },
  {
   "cell_type": "markdown",
   "metadata": {},
   "source": [
    "Selecting columns and rows by label\n",
    "Mathematical operations on columns/rows\n",
    "Filtering, sorting, grouping\n",
    "Handling missing data\n",
    "Reading/writing data from/to files\n",
    "Benefits of Pandas\n",
    "\n",
    "Working with tabular/structured data is fast and efficient\n",
    "Wide range of data sources supported (CSV, Excel, databases, etc.)\n",
    "Powerful data manipulation and analysis capabilities\n",
    "Integrates well with other data science libraries"
   ]
  }
 ],
 "metadata": {
  "kernelspec": {
   "display_name": "Python 3",
   "language": "python",
   "name": "python3"
  },
  "language_info": {
   "codemirror_mode": {
    "name": "ipython",
    "version": 3
   },
   "file_extension": ".py",
   "mimetype": "text/x-python",
   "name": "python",
   "nbconvert_exporter": "python",
   "pygments_lexer": "ipython3",
   "version": "3.12.2"
  }
 },
 "nbformat": 4,
 "nbformat_minor": 2
}
