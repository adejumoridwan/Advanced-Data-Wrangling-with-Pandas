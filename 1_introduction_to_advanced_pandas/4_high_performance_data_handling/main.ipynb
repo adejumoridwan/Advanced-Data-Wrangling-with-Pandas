{
 "cells": [
  {
   "cell_type": "markdown",
   "metadata": {},
   "source": [
    "## Memory Management"
   ]
  },
  {
   "cell_type": "markdown",
   "metadata": {},
   "source": [
    "1. **Data Types**: Using appropriate data types can significantly reduce memory footprint. Let's look at an example:"
   ]
  },
  {
   "cell_type": "code",
   "execution_count": null,
   "metadata": {},
   "outputs": [],
   "source": [
    "import pandas as pd\n",
    "import numpy as np\n",
    "\n",
    "# Create a DataFrame with integer data\n",
    "df = pd.DataFrame({'A': np.random.randint(0, 100, 1000000)})\n",
    "\n",
    "# Check memory usage\n",
    "print(f\"Memory usage (int64): {df.memory_usage(deep=True).sum() / 1024 ** 2:.2f} MB\")\n",
    "\n",
    "# Convert data type to int8 (1 byte instead of 8 bytes)\n",
    "df['A'] = df['A'].astype('int8')\n",
    "\n",
    "# Check memory usage again\n",
    "print(f\"Memory usage (int8): {df.memory_usage(deep=True).sum() / 1024 ** 2:.2f} MB\")"
   ]
  },
  {
   "cell_type": "markdown",
   "metadata": {},
   "source": [
    "2. **Categorical Data**: For data with a fixed set of values, use Pandas' categorical data type:"
   ]
  },
  {
   "cell_type": "code",
   "execution_count": null,
   "metadata": {},
   "outputs": [],
   "source": [
    "\n",
    "# Create a DataFrame with categorical data\n",
    "df = pd.DataFrame({'Category': np.random.choice(['A', 'B', 'C'], size=1000000)})\n",
    "\n",
    "# Check memory usage with object data type\n",
    "print(f\"Memory usage (object): {df.memory_usage(deep=True).sum() / 1024 ** 2:.2f} MB\")\n",
    "\n",
    "# Convert to categorical data type\n",
    "df['Category'] = df['Category'].astype('category')\n",
    "\n",
    "# Check memory usage again\n",
    "print(f\"Memory usage (categorical): {df.memory_usage(deep=True).sum() / 1024 ** 2:.2f} MB\")"
   ]
  },
  {
   "cell_type": "markdown",
   "metadata": {},
   "source": [
    "3. **Chunking**: For very large datasets, process data in chunks:\n"
   ]
  },
  {
   "cell_type": "code",
   "execution_count": null,
   "metadata": {},
   "outputs": [],
   "source": [
    "# Read a large CSV file in chunks\n",
    "reader = pd.read_csv(\"large_data.csv\", chunksize=1000000)\n",
    "\n",
    "# Process each chunk\n",
    "for chunk in reader:\n",
    "    # Do some processing...\n",
    "    processed_data = chunk.apply(lambda x: x ** 2, axis=1)\n",
    "    # Save processed data or accumulate results"
   ]
  },
  {
   "cell_type": "markdown",
   "metadata": {},
   "source": [
    "## Vectorized Operations"
   ]
  },
  {
   "cell_type": "markdown",
   "metadata": {},
   "source": [
    "Vectorized operations in Pandas refer to operations that are applied element-wise to entire arrays, vectors, or data structures, without the need for explicit looping constructs. \n",
    "The key advantages of vectorized operations are:\n",
    "\n",
    "- **Performance:** Vectorized operations are significantly faster than iterating over elements using Python loops, especially for large datasets.\n",
    "- **Concise and Readable Code:** Vectorized operations often result in more concise and expressive code, making it easier to read and maintain.\n",
    "- **Memory Efficiency:** Vectorized operations typically have lower memory overhead compared to creating intermediate data structures during iterative operations."
   ]
  },
  {
   "cell_type": "markdown",
   "metadata": {},
   "source": [
    "1. **Element-wise Operations**: Basic arithmetic operations are automatically vectorized:"
   ]
  },
  {
   "cell_type": "code",
   "execution_count": null,
   "metadata": {},
   "outputs": [],
   "source": [
    "import pandas as pd\n",
    "import numpy as np\n",
    "\n",
    "# Create a DataFrame\n",
    "df = pd.DataFrame({'A': np.random.rand(1000000), 'B': np.random.rand(1000000)})\n",
    "\n",
    "# Vectorized arithmetic operations\n",
    "df['C'] = df['A'] + df['B']\n",
    "df['D'] = df['A'] * 2"
   ]
  },
  {
   "cell_type": "markdown",
   "metadata": {},
   "source": [
    "2. **Universal Functions (ufuncs)**: Apply NumPy's ufuncs to Pandas data structures:"
   ]
  },
  {
   "cell_type": "code",
   "execution_count": null,
   "metadata": {},
   "outputs": [],
   "source": [
    "# Vectorized logarithm\n",
    "df['log_A'] = np.log(df['A'])\n",
    "\n",
    "# Vectorized exponential\n",
    "df['exp_B'] = np.exp(df['B'])"
   ]
  },
  {
   "cell_type": "markdown",
   "metadata": {},
   "source": [
    "3. **Conditional Operations**: Use vectorized conditional operations:\n"
   ]
  },
  {
   "cell_type": "code",
   "execution_count": null,
   "metadata": {},
   "outputs": [],
   "source": [
    "# Vectorized conditional selection\n",
    "df['label'] = np.where(df['A'] > 0.5, 'High', 'Low')\n",
    "\n",
    "# Vectorized boolean indexing\n",
    "high_values = df[df['A'] > 0.5]"
   ]
  },
  {
   "cell_type": "markdown",
   "metadata": {},
   "source": [
    "4. **Aggregations**: Perform vectorized aggregations:"
   ]
  },
  {
   "cell_type": "code",
   "execution_count": null,
   "metadata": {},
   "outputs": [],
   "source": [
    "# Vectorized sum\n",
    "total = df['A'].sum()\n",
    "\n",
    "# Vectorized mean\n",
    "mean_value = df['B'].mean()\n",
    "\n",
    "# Groupby and aggregation\n",
    "group_stats = df.groupby('label')['A'].agg(['mean', 'std'])"
   ]
  },
  {
   "cell_type": "markdown",
   "metadata": {},
   "source": [
    "5. **Apply and Lambda**: Use `apply()` and lambda functions for custom vectorized operations:"
   ]
  },
  {
   "cell_type": "code",
   "execution_count": null,
   "metadata": {},
   "outputs": [],
   "source": [
    "# Vectorized square root\n",
    "df['sqrt_A'] = df['A'].apply(np.sqrt)\n",
    "\n",
    "# Vectorized string operations\n",
    "df['upper_str'] = df['category'].apply(lambda x: x.upper())"
   ]
  },
  {
   "cell_type": "markdown",
   "metadata": {},
   "source": [
    "By leveraging memory-efficient data storage and vectorized operations, Pandas enables high-performance data handling, even for large datasets. Always profile your code and use the appropriate techniques for your specific use case."
   ]
  }
 ],
 "metadata": {
  "kernelspec": {
   "display_name": "Python 3",
   "language": "python",
   "name": "python3"
  },
  "language_info": {
   "codemirror_mode": {
    "name": "ipython",
    "version": 3
   },
   "file_extension": ".py",
   "mimetype": "text/x-python",
   "name": "python",
   "nbconvert_exporter": "python",
   "pygments_lexer": "ipython3",
   "version": "3.12.2"
  }
 },
 "nbformat": 4,
 "nbformat_minor": 2
}
